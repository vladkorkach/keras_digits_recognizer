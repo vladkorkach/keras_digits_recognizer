{
 "cells": [
  {
   "cell_type": "markdown",
   "metadata": {},
   "source": [
    "# Digits recognizer. Keras implementation"
   ]
  },
  {
   "cell_type": "code",
   "execution_count": 1,
   "metadata": {},
   "outputs": [
    {
     "name": "stderr",
     "output_type": "stream",
     "text": [
      "Using TensorFlow backend.\n"
     ]
    }
   ],
   "source": [
    "import numpy as np\n",
    "import pandas as pd\n",
    "\n",
    "import matplotlib.pyplot as plt\n",
    "%matplotlib inline\n",
    "\n",
    "import keras\n",
    "from keras.models import Sequential, Model\n",
    "from keras.layers import Dense, Dropout, Lambda, Flatten, BatchNormalization, Conv2D, MaxPool2D, Input\n",
    "from keras.callbacks import EarlyStopping, ReduceLROnPlateau\n",
    "from keras.optimizers import Adam, RMSprop\n",
    "from sklearn.model_selection import train_test_split\n",
    "from keras import backend as K\n",
    "from keras.preprocessing.image import ImageDataGenerator\n",
    "from keras.utils import to_categorical"
   ]
  },
  {
   "cell_type": "code",
   "execution_count": 2,
   "metadata": {},
   "outputs": [],
   "source": [
    "# hyperparams\n",
    "input_shape = (28, 28, 1)\n",
    "batch_size = 16\n",
    "epochs = 4\n",
    "number_of_classes = 10"
   ]
  },
  {
   "cell_type": "code",
   "execution_count": 10,
   "metadata": {},
   "outputs": [],
   "source": [
    "class MNISTmodel:\n",
    "    seed = 42\n",
    "    epochs = epochs\n",
    "    batch_size = batch_size\n",
    "    input_shape = input_shape\n",
    "    number_of_classes = number_of_classes\n",
    "    cval_test_size = 0.1\n",
    "    \n",
    "    model = None\n",
    "    \n",
    "    def __init__(self, train, test):\n",
    "        if not (isinstance(train, pd.DataFrame) and isinstance(test, pd.DataFrame)):\n",
    "            train = pd.read_csv(train)\n",
    "            test = pd.read_csv(test)\n",
    "\n",
    "        self.preprocessing(train, test)\n",
    "\n",
    "    \n",
    "    def preprocessing(self, train, test):\n",
    "        # only pixels to numpy ndarray\n",
    "        x_train = train.iloc[:, 1:].values.astype('float32')\n",
    "        x_test  = test.values.astype('float32')\n",
    "\n",
    "        # train labels for X_train\n",
    "        y_train = train.iloc[:, 0].values.astype('float32')\n",
    "        y_train = self.onehot_encode(y_train)\n",
    "\n",
    "        # normalize pixels => [0..1]\n",
    "        x_train = x_train / 255.\n",
    "        x_test  = x_test  / 255.\n",
    "\n",
    "        # reshape\n",
    "        number_of_train = x_train.shape[0]\n",
    "        number_of_test  = x_test.shape[0]\n",
    "        \n",
    "        # assign\n",
    "        x_train = x_train.reshape(number_of_train, *self.input_shape) # (n, 28, 28, 1)\n",
    "        self.x_test  = x_test.reshape(number_of_test, *self.input_shape) # (n, 28, 28, 1)\n",
    "        \n",
    "        # cross validation\n",
    "        self.x_train, self.x_val, self.y_train, self.y_val = train_test_split(x_train, y_train, \n",
    "                                                                              test_size=self.cval_test_size,\n",
    "                                                                              random_state=self.seed)\n",
    "\n",
    "    def onehot_encode(self, labels):\n",
    "        return to_categorical(labels, self.number_of_classes)\n",
    "    \n",
    "    def build_sequential(self):\n",
    "        self.model = Sequential()\n",
    "        self.model.add(Conv2D(32, kernel_size=(3, 3), activation='relu', kernel_initializer='he_normal', input_shape=self.input_shape))\n",
    "        self.model.add(Conv2D(32, kernel_size=(3, 3), activation='relu', kernel_initializer='he_normal'))\n",
    "        self.model.add(MaxPool2D(pool_size=(2, 2)))\n",
    "        self.model.add(Dropout(0.2))\n",
    "        self.model.add(Conv2D(64, (3, 3), activation='relu', padding='same', kernel_initializer='he_normal'))\n",
    "        self.model.add(Conv2D(64, (3, 3), activation='relu', padding='same', kernel_initializer='he_normal'))\n",
    "        self.model.add(MaxPool2D(pool_size=(2, 2)))\n",
    "        self.model.add(Dropout(0.25))\n",
    "        self.model.add(Conv2D(128, (3, 3), activation='relu', padding='same', kernel_initializer='he_normal'))\n",
    "        self.model.add(Dropout(0.25))\n",
    "        self.model.add(Flatten())\n",
    "        self.model.add(Dense(128, activation='relu'))\n",
    "        self.model.add(BatchNormalization())\n",
    "        self.model.add(Dropout(0.25))\n",
    "        self.model.add(Dense(self.number_of_classes, activation='softmax'))\n",
    "\n",
    "    def compile(self):\n",
    "        self.model.compile(loss=keras.losses.categorical_crossentropy,\n",
    "                   optimizer=RMSprop(),\n",
    "                   metrics=['accuracy'])\n",
    "        \n",
    "        self.lerning_rate_reduction = ReduceLROnPlateau(monitor='val_acc',\n",
    "                                                        patience=3,\n",
    "                                                        verbose=1,\n",
    "                                                        factor=0.5,\n",
    "                                                        min_lr=0.0001)\n",
    "    \n",
    "    @staticmethod\n",
    "    def datagen():\n",
    "        return ImageDataGenerator(\n",
    "        featurewise_center=False,\n",
    "        samplewise_center=False,\n",
    "        featurewise_std_normalization=False,\n",
    "        samplewise_std_normalization=False,\n",
    "        zca_whitening=False,\n",
    "        rotation_range=15,\n",
    "        zoom_range=0.1,\n",
    "        width_shift_range=0.1,\n",
    "        height_shift_range=0.1,\n",
    "        horizontal_flip=False,\n",
    "        vertical_flip=False)\n",
    "    \n",
    "    def summary(self):\n",
    "        self.model.summary()\n",
    "        \n",
    "    def evaluate(self, x=None, y=None, verbose=0):\n",
    "        final_loss, final_acc = None, None\n",
    "        \n",
    "        if x is None and y is None:\n",
    "            x, y = self.x_val, self.y_val\n",
    "            \n",
    "        final_loss, final_acc = self.model.evaluate(x, y, verbose=verbose)\n",
    "        print(\"Final loss: {0:.6f}, final accuracy: {1:.6f}\".format(final_loss, final_acc))\n",
    "        \n",
    "    def predict(self, test=None, classes=False):\n",
    "        if test is None:\n",
    "            test = self.x_test\n",
    "\n",
    "        if classes:\n",
    "            return self.model.predict_classes(test)\n",
    "        else:\n",
    "            return self.model.predict(test)\n",
    "        \n",
    "    \n",
    "    "
   ]
  },
  {
   "cell_type": "markdown",
   "metadata": {},
   "source": [
    "### Check files"
   ]
  },
  {
   "cell_type": "code",
   "execution_count": 11,
   "metadata": {},
   "outputs": [
    {
     "name": "stdout",
     "output_type": "stream",
     "text": [
      "sample_submission.csv\n",
      "test.csv\n",
      "train.csv\n",
      "\n"
     ]
    }
   ],
   "source": [
    "from subprocess import check_output\n",
    "print(check_output(['ls', './input']).decode('utf8'))"
   ]
  },
  {
   "cell_type": "markdown",
   "metadata": {},
   "source": [
    "### Read dataset"
   ]
  },
  {
   "cell_type": "code",
   "execution_count": 12,
   "metadata": {},
   "outputs": [],
   "source": [
    "train = pd.read_csv('./input/train.csv')\n",
    "test  = pd.read_csv('./input/test.csv')"
   ]
  },
  {
   "cell_type": "code",
   "execution_count": 13,
   "metadata": {},
   "outputs": [
    {
     "name": "stdout",
     "output_type": "stream",
     "text": [
      "_________________________________________________________________\n",
      "Layer (type)                 Output Shape              Param #   \n",
      "=================================================================\n",
      "conv2d_6 (Conv2D)            (None, 26, 26, 32)        320       \n",
      "_________________________________________________________________\n",
      "conv2d_7 (Conv2D)            (None, 24, 24, 32)        9248      \n",
      "_________________________________________________________________\n",
      "max_pooling2d_3 (MaxPooling2 (None, 12, 12, 32)        0         \n",
      "_________________________________________________________________\n",
      "dropout_5 (Dropout)          (None, 12, 12, 32)        0         \n",
      "_________________________________________________________________\n",
      "conv2d_8 (Conv2D)            (None, 12, 12, 64)        18496     \n",
      "_________________________________________________________________\n",
      "conv2d_9 (Conv2D)            (None, 12, 12, 64)        36928     \n",
      "_________________________________________________________________\n",
      "max_pooling2d_4 (MaxPooling2 (None, 6, 6, 64)          0         \n",
      "_________________________________________________________________\n",
      "dropout_6 (Dropout)          (None, 6, 6, 64)          0         \n",
      "_________________________________________________________________\n",
      "conv2d_10 (Conv2D)           (None, 6, 6, 128)         73856     \n",
      "_________________________________________________________________\n",
      "dropout_7 (Dropout)          (None, 6, 6, 128)         0         \n",
      "_________________________________________________________________\n",
      "flatten_2 (Flatten)          (None, 4608)              0         \n",
      "_________________________________________________________________\n",
      "dense_3 (Dense)              (None, 128)               589952    \n",
      "_________________________________________________________________\n",
      "batch_normalization_2 (Batch (None, 128)               512       \n",
      "_________________________________________________________________\n",
      "dropout_8 (Dropout)          (None, 128)               0         \n",
      "_________________________________________________________________\n",
      "dense_4 (Dense)              (None, 10)                1290      \n",
      "=================================================================\n",
      "Total params: 730,602\n",
      "Trainable params: 730,346\n",
      "Non-trainable params: 256\n",
      "_________________________________________________________________\n"
     ]
    }
   ],
   "source": [
    "mnist = MNISTmodel(train, test)\n",
    "mnist.build_sequential()\n",
    "mnist.compile()\n",
    "mnist.summary()"
   ]
  },
  {
   "cell_type": "code",
   "execution_count": 14,
   "metadata": {},
   "outputs": [],
   "source": [
    "datagen = MNISTmodel.datagen()\n",
    "datagen.fit(mnist.x_train)"
   ]
  },
  {
   "cell_type": "code",
   "execution_count": 15,
   "metadata": {},
   "outputs": [
    {
     "name": "stdout",
     "output_type": "stream",
     "text": [
      "Epoch 1/4\n",
      "2362/2362 [==============================] - 139s 59ms/step - loss: 0.3103 - acc: 0.9021 - val_loss: 0.0480 - val_acc: 0.9864\n",
      "Epoch 2/4\n",
      "2362/2362 [==============================] - 139s 59ms/step - loss: 0.1213 - acc: 0.9628 - val_loss: 0.0451 - val_acc: 0.9867\n",
      "Epoch 3/4\n",
      "2362/2362 [==============================] - 125s 53ms/step - loss: 0.0988 - acc: 0.9710 - val_loss: 0.0339 - val_acc: 0.9898\n",
      "Epoch 4/4\n",
      "2362/2362 [==============================] - 128s 54ms/step - loss: 0.0894 - acc: 0.9732 - val_loss: 0.0308 - val_acc: 0.9921\n"
     ]
    }
   ],
   "source": [
    "history = mnist.model.fit_generator(datagen.flow(mnist.x_train, mnist.y_train, batch_size=mnist.batch_size),\n",
    "                                  epochs=mnist.epochs,\n",
    "                                  verbose=1,\n",
    "                                  validation_data=(mnist.x_val, mnist.y_val),\n",
    "                                  steps_per_epoch=mnist.x_train.shape[0] // mnist.batch_size,\n",
    "                                  callbacks=[mnist.lerning_rate_reduction])"
   ]
  },
  {
   "cell_type": "code",
   "execution_count": 16,
   "metadata": {},
   "outputs": [
    {
     "name": "stdout",
     "output_type": "stream",
     "text": [
      "Final loss: 0.030829, final accuracy: 0.992143\n"
     ]
    }
   ],
   "source": [
    "mnist.evaluate()"
   ]
  },
  {
   "cell_type": "code",
   "execution_count": 41,
   "metadata": {},
   "outputs": [
    {
     "data": {
      "text/plain": [
       "array([2, 0, 9, ..., 3, 9, 2])"
      ]
     },
     "execution_count": 41,
     "metadata": {},
     "output_type": "execute_result"
    }
   ],
   "source": [
    "y_pred = mnist.predict(mnist.x_test, classes=True)\n",
    "y_pred"
   ]
  },
  {
   "cell_type": "code",
   "execution_count": 43,
   "metadata": {},
   "outputs": [
    {
     "data": {
      "text/plain": [
       "28000"
      ]
     },
     "execution_count": 43,
     "metadata": {},
     "output_type": "execute_result"
    }
   ],
   "source": [
    "len(y_pred)"
   ]
  },
  {
   "cell_type": "code",
   "execution_count": 42,
   "metadata": {},
   "outputs": [
    {
     "data": {
      "image/png": "[encoded data removed]",
      "text/plain": [
       "<Figure size 432x288 with 6 Axes>"
      ]
     },
     "metadata": {
      "needs_background": "light"
     },
     "output_type": "display_data"
    }
   ],
   "source": [
    "for i in range(0, 6):\n",
    "    plt.subplot(2, 3, i + 1)\n",
    "    plt.imshow(mnist.x_test[i].reshape(28, 28), cmap=plt.get_cmap('gray'))\n",
    "    plt.title(y_pred[i]);\n"
   ]
  },
  {
   "cell_type": "code",
   "execution_count": 54,
   "metadata": {},
   "outputs": [],
   "source": [
    "df = pd.DataFrame({ 'ImageId': list(range(1, len(y_pred) + 1)), 'Label': y_pred })\n",
    "df.to_csv('results.csv', sep=',', index=False, index_label='ImageId')"
   ]
  },
  {
   "cell_type": "code",
   "execution_count": null,
   "metadata": {},
   "outputs": [],
   "source": []
  }
 ],
 "metadata": {
  "kernelspec": {
   "display_name": "Python 3",
   "language": "python",
   "name": "python3"
  },
  "language_info": {
   "codemirror_mode": {
    "name": "ipython",
    "version": 3
   },
   "file_extension": ".py",
   "mimetype": "text/x-python",
   "name": "python",
   "nbconvert_exporter": "python",
   "pygments_lexer": "ipython3",
   "version": "3.6.7"
  }
 },
 "nbformat": 4,
 "nbformat_minor": 2
}
